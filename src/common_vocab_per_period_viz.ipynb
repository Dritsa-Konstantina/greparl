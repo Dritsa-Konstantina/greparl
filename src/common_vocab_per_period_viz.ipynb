{
 "cells": [
  {
   "cell_type": "code",
   "execution_count": 1,
   "metadata": {},
   "outputs": [
    {
     "name": "stderr",
     "output_type": "stream",
     "text": [
      "[nltk_data] Downloading package punkt to /home/dina/nltk_data...\n",
      "[nltk_data]   Package punkt is already up-to-date!\n"
     ]
    }
   ],
   "source": [
    "import re\n",
    "import ast\n",
    "import nltk\n",
    "import random\n",
    "import datetime\n",
    "import pandas as pd\n",
    "nltk.download('punkt')\n",
    "from tqdm import tqdm\n",
    "tqdm.pandas()\n",
    "import seaborn as sns\n",
    "from numerize import numerize \n",
    "import matplotlib.pyplot as plt\n",
    "from matplotlib.font_manager import FontProperties\n",
    "from matplotlib.ticker import FuncFormatter"
   ]
  },
  {
   "cell_type": "code",
   "execution_count": 21,
   "metadata": {},
   "outputs": [],
   "source": [
    "def step_one_pairs(list_of_items):\n",
    "    return [(list_of_items[i],list_of_items[i+1]) for i in range(len(list_of_items)-1)]"
   ]
  },
  {
   "cell_type": "markdown",
   "metadata": {},
   "source": [
    "### Load data before preprocessing"
   ]
  },
  {
   "cell_type": "code",
   "execution_count": 5,
   "metadata": {},
   "outputs": [],
   "source": [
    "print('Reading file...')\n",
    "df = pd.read_csv('../out_files/tell_all_FILLED.csv')\n",
    "df = df[df['speech'].notna()]\n",
    "\n",
    "print(df.tail(2))"
   ]
  },
  {
   "cell_type": "code",
   "execution_count": 4,
   "metadata": {},
   "outputs": [],
   "source": [
    "df = df.rename(columns={'parliamentary_period': 'period'})\n",
    "\n",
    "df.period = df.period.apply(lambda x: x.replace(' review 9',''))\n",
    "df.period = df.period.apply(lambda x: x.replace('period ',''))\n",
    "\n",
    "df.period = df.period.astype(int)\n",
    "\n",
    "print(datetime.datetime.now())\n",
    "\n",
    "#Group speeches by period\n",
    "PERperiod_df_original = df.groupby(df.period)['speech'].progress_apply(' '.join).reset_index()\n",
    "\n",
    "print(datetime.datetime.now())"
   ]
  },
  {
   "cell_type": "code",
   "execution_count": 4,
   "metadata": {},
   "outputs": [
    {
     "name": "stdout",
     "output_type": "stream",
     "text": [
      "[(5, 6), (6, 7), (7, 8), (8, 9), (9, 10), (10, 11), (11, 12), (12, 13), (13, 14), (14, 15), (15, 16), (16, 17), (17, 18)]\n"
     ]
    }
   ],
   "source": [
    "# Sort periods based on number in the string\n",
    "\n",
    "periods = sorted(PERperiod_df_original.period.to_list())\n",
    "period_pairs = step_one_pairs(periods)\n",
    "print(period_pairs)"
   ]
  },
  {
   "cell_type": "code",
   "execution_count": 5,
   "metadata": {},
   "outputs": [
    {
     "name": "stderr",
     "output_type": "stream",
     "text": [
      "100%|██████████████████████████████████████████████████████████████████████████████████████████████████████████████████████████████████████████████████████████████| 14/14 [12:52<00:00, 55.21s/it]\n"
     ]
    }
   ],
   "source": [
    "PERperiod_df_original['vocab'] = PERperiod_df_original.speech.progress_apply(lambda x: nltk.word_tokenize(x.lower()))"
   ]
  },
  {
   "cell_type": "markdown",
   "metadata": {},
   "source": [
    "Compute vocabulary/token intersection between pairs of periods"
   ]
  },
  {
   "cell_type": "code",
   "execution_count": 6,
   "metadata": {},
   "outputs": [
    {
     "name": "stdout",
     "output_type": "stream",
     "text": [
      "     pair  common_vocab\n",
      "0  (5, 6)         30043\n",
      "1  (6, 7)         46959\n"
     ]
    }
   ],
   "source": [
    "common_vocab = []\n",
    "\n",
    "for pair in period_pairs:\n",
    "    \n",
    "    s1 = set(PERperiod_df_original.loc[(PERperiod_df_original.period==pair[0])].vocab.values[0])\n",
    "    s2 = set(PERperiod_df_original.loc[(PERperiod_df_original.period==pair[1])].vocab.values[0])\n",
    "    common_voc = len(s1.intersection(s2))\n",
    "    common_vocab.append([pair, common_voc])\n",
    "    \n",
    "common_vocab_df_original = pd.DataFrame(common_vocab, columns = ['pair', 'common_vocab'])\n",
    "# common_vocab_df_original.to_csv('../out_files/common_vocab_df_original.csv', index=False)\n",
    "print(common_vocab_df_original.head(2))"
   ]
  },
  {
   "cell_type": "markdown",
   "metadata": {},
   "source": [
    "### Load data after preprocessing"
   ]
  },
  {
   "cell_type": "code",
   "execution_count": 1,
   "metadata": {},
   "outputs": [
    {
     "name": "stdout",
     "output_type": "stream",
     "text": [
      "Reading file...\n",
      "                    member_name sitting_date parliamentary_period  \\\n",
      "0  κρητικος νικολαου παναγιωτης   03/07/1989             period 5   \n",
      "1  κρητικος νικολαου παναγιωτης   03/07/1989             period 5   \n",
      "\n",
      "  parliamentary_session parliamentary_sitting                 political_party  \\\n",
      "0             session 1             sitting 1  πανελληνιο σοσιαλιστικο κινημα   \n",
      "1             session 1             sitting 1  πανελληνιο σοσιαλιστικο κινημα   \n",
      "\n",
      "                                     government member_region  \\\n",
      "0  ['τζαννετακη τζαννη(02/07/1989-12/10/1989)']   β' πειραιως   \n",
      "1  ['τζαννετακη τζαννη(02/07/1989-12/10/1989)']   β' πειραιως   \n",
      "\n",
      "                                              roles member_gender  \\\n",
      "0  ['δ αντιπροεδρος βουλης(07/03/1989-21/11/1989)']          male   \n",
      "1  ['δ αντιπροεδρος βουλης(07/03/1989-21/11/1989)']          male   \n",
      "\n",
      "  speaker_info                                             speech  \n",
      "0   προεδρευων  παρακαλειται @sw γραμματεας βουλγαρακης @sw συ...  \n",
      "1   προεδρευων  παρακαλειται @sw κυριος γραμματεας @sw συνοδευ...  \n"
     ]
    }
   ],
   "source": [
    "print('Reading file...')\n",
    "df_cleaned = pd.read_csv('../out_files/tell_all_cleaned.csv')\n",
    "df_cleaned = df_cleaned[df_cleaned['speech'].notna()]\n",
    "\n",
    "print(df_cleaned.head(2))"
   ]
  },
  {
   "cell_type": "code",
   "execution_count": 2,
   "metadata": {},
   "outputs": [],
   "source": [
    "df_cleaned = df_cleaned.rename(columns={'parliamentary_period': 'period'})\n",
    "\n",
    "df_cleaned.period = df_cleaned.period.apply(lambda x: x.replace(' review 9',''))\n",
    "df_cleaned.period = df_cleaned.period.apply(lambda x: x.replace('period ',''))\n",
    "\n",
    "df_cleaned.period = df_cleaned.period.astype(int)\n",
    "\n",
    "print(datetime.datetime.now())\n",
    "\n",
    "PERperiod_df_cleaned = df_cleaned.groupby(df_cleaned.period)['speech'].progress_apply('. '.join).reset_index() #concat sentences, each last sentence for each speech did not have dot so add one.\n",
    "\n",
    "print(datetime.datetime.now())"
   ]
  },
  {
   "cell_type": "code",
   "execution_count": 12,
   "metadata": {},
   "outputs": [
    {
     "name": "stdout",
     "output_type": "stream",
     "text": [
      "[(5, 6), (6, 7), (7, 8), (8, 9), (9, 10), (10, 11), (11, 12), (12, 13), (13, 14), (14, 15), (15, 16), (16, 17), (17, 18)]\n"
     ]
    }
   ],
   "source": [
    "periods_cleaned = sorted(PERperiod_df_cleaned.period.to_list())\n",
    "period_pairs_cleaned = step_one_pairs(periods_cleaned)\n",
    "print(period_pairs_cleaned)"
   ]
  },
  {
   "cell_type": "code",
   "execution_count": 13,
   "metadata": {},
   "outputs": [
    {
     "name": "stderr",
     "output_type": "stream",
     "text": [
      "100%|██████████████████████████████████████████████████████████████████████████████████████████████████████████████████████████████████████████████████████████████| 14/14 [12:11<00:00, 52.27s/it]\n"
     ]
    }
   ],
   "source": [
    "PERperiod_df_cleaned['vocab'] = PERperiod_df_cleaned.speech.progress_apply(lambda x: nltk.word_tokenize(x))"
   ]
  },
  {
   "cell_type": "code",
   "execution_count": 14,
   "metadata": {},
   "outputs": [
    {
     "name": "stdout",
     "output_type": "stream",
     "text": [
      "     pair  common_vocab\n",
      "0  (5, 6)         27439\n",
      "1  (6, 7)         43915\n"
     ]
    }
   ],
   "source": [
    "common_vocab_cleaned = []\n",
    "\n",
    "for pair in period_pairs_cleaned:\n",
    "    \n",
    "    s1 = set(PERperiod_df_cleaned.loc[(PERperiod_df_cleaned.period==pair[0])].vocab.values[0])\n",
    "    s2 = set(PERperiod_df_cleaned.loc[(PERperiod_df_cleaned.period==pair[1])].vocab.values[0])\n",
    "    common_voc = len(s1.intersection(s2))\n",
    "    common_vocab_cleaned.append([pair, common_voc])\n",
    "    \n",
    "common_vocab_df_cleaned = pd.DataFrame(common_vocab_cleaned, columns = ['pair', 'common_vocab'])\n",
    "common_vocab_df_cleaned.to_csv('../out_files/common_vocab_df_cleaned.csv', index=False)\n",
    "\n",
    "print(common_vocab_df_cleaned.head(2))"
   ]
  },
  {
   "cell_type": "markdown",
   "metadata": {},
   "source": [
    "### Load data after merging periods"
   ]
  },
  {
   "cell_type": "code",
   "execution_count": 6,
   "metadata": {},
   "outputs": [],
   "source": [
    "df_merged_cleaned = df_cleaned.copy()"
   ]
  },
  {
   "cell_type": "code",
   "execution_count": 7,
   "metadata": {},
   "outputs": [],
   "source": [
    "df_merged_cleaned.loc[(df_merged_cleaned.period==5), 'period'] = 7\n",
    "df_merged_cleaned.loc[(df_merged_cleaned.period==6), 'period'] = 7\n",
    "df_merged_cleaned.loc[(df_merged_cleaned.period==14), 'period'] = 15\n",
    "df_merged_cleaned.loc[(df_merged_cleaned.period==16), 'period'] = 17\n"
   ]
  },
  {
   "cell_type": "code",
   "execution_count": 8,
   "metadata": {},
   "outputs": [
    {
     "name": "stderr",
     "output_type": "stream",
     "text": [
      "100%|██████████████████████████████████████████████████████████████████████████████████████████████████████████████████████████████████████████████████████████████| 10/10 [00:00<00:00, 21.74it/s]\n"
     ]
    }
   ],
   "source": [
    "PERperiod_df_merged_cleaned = df_merged_cleaned.groupby(df_merged_cleaned.period)['speech'].progress_apply('. '.join).reset_index() #concat sentences, each last sentence for each speech did not have dot so add one.\n"
   ]
  },
  {
   "cell_type": "code",
   "execution_count": 9,
   "metadata": {},
   "outputs": [
    {
     "name": "stdout",
     "output_type": "stream",
     "text": [
      "[7, 8, 9, 10, 11, 12, 13, 15, 17, 18]\n",
      "[(7, 8), (8, 9), (9, 10), (10, 11), (11, 12), (12, 13), (13, 15), (15, 17), (17, 18)]\n"
     ]
    }
   ],
   "source": [
    "periods_merged_cleaned = sorted(PERperiod_df_merged_cleaned.period.to_list())\n",
    "print(periods_merged_cleaned)\n",
    "\n",
    "period_pairs_merged_cleaned = step_one_pairs(periods_merged_cleaned)\n",
    "print(period_pairs_merged_cleaned)"
   ]
  },
  {
   "cell_type": "code",
   "execution_count": 10,
   "metadata": {},
   "outputs": [
    {
     "name": "stderr",
     "output_type": "stream",
     "text": [
      "100%|██████████████████████████████████████████████████████████████████████████████████████████████████████████████████████████████████████████████████████████████| 10/10 [11:47<00:00, 70.72s/it]\n"
     ]
    }
   ],
   "source": [
    "PERperiod_df_merged_cleaned['vocab'] = PERperiod_df_merged_cleaned.speech.progress_apply(lambda x: nltk.word_tokenize(x))\n"
   ]
  },
  {
   "cell_type": "code",
   "execution_count": 11,
   "metadata": {},
   "outputs": [
    {
     "name": "stdout",
     "output_type": "stream",
     "text": [
      "(7, 8)\n",
      "(8, 9)\n",
      "(9, 10)\n",
      "(10, 11)\n",
      "(11, 12)\n",
      "(12, 13)\n",
      "(13, 15)\n",
      "(15, 17)\n",
      "(17, 18)\n",
      "     pair  common_vocab\n",
      "0  (7, 8)         93171\n",
      "1  (8, 9)         86361\n"
     ]
    }
   ],
   "source": [
    "common_vocab_merged_cleaned = []\n",
    "\n",
    "for pair in period_pairs_merged_cleaned:\n",
    "    print(pair)\n",
    "    \n",
    "    s1 = set(PERperiod_df_merged_cleaned.loc[(PERperiod_df_merged_cleaned.period==pair[0])].vocab.values[0])\n",
    "    s2 = set(PERperiod_df_merged_cleaned.loc[(PERperiod_df_merged_cleaned.period==pair[1])].vocab.values[0])\n",
    "    common_voc = len(s1.intersection(s2))\n",
    "    common_vocab_merged_cleaned.append([pair, common_voc])\n",
    "    \n",
    "common_vocab_df_merged_cleaned = pd.DataFrame(common_vocab_merged_cleaned, columns = ['pair', 'common_vocab'])\n",
    "common_vocab_df_merged_cleaned.to_csv('../out_files/common_vocab_df_merged_cleaned.csv', index=False)\n",
    "\n",
    "print(common_vocab_df_merged_cleaned.head(2))"
   ]
  },
  {
   "cell_type": "markdown",
   "metadata": {},
   "source": [
    "### Visualize common vocabulary"
   ]
  },
  {
   "cell_type": "code",
   "execution_count": 3,
   "metadata": {},
   "outputs": [],
   "source": [
    "periods = {\n",
    "    5: (1989, 1989),\n",
    "    6: (1989, 1990),\n",
    "    7: (1990, 1993),\n",
    "    8: (1993, 1996),\n",
    "    9: (1996, 2000),\n",
    "    10: (2000, 2004),\n",
    "    11: (2004, 2007),\n",
    "    12: (2007, 2009),\n",
    "    13: (2009, 2012),\n",
    "    14: (2012, 2012),\n",
    "    15: (2012, 2014),\n",
    "    16: (2015, 2015),\n",
    "    17: (2015, 2019),\n",
    "    18: (2019, 2020)\n",
    "}\n",
    "\n",
    "merged_periods = {\n",
    "    7: (1989, 1993),\n",
    "    8: (1993, 1996),\n",
    "    9: (1996, 2000),\n",
    "    10: (2000, 2004),\n",
    "    11: (2004, 2007),\n",
    "    12: (2007, 2009),\n",
    "    13: (2009, 2012),\n",
    "    15: (2012, 2014),\n",
    "    17: (2015, 2019),\n",
    "    18: (2019, 2020)\n",
    "}\n",
    "\n",
    "common_vocab_df_original = pd.read_csv('../out_files/common_vocab_df_original.csv', converters={\"pair\": ast.literal_eval})\n",
    "common_vocab_df_original['version'] = 'without preprocessing'\n",
    "common_vocab_df_original['period_start'] = common_vocab_df_original['pair'].map(lambda x: periods[x[0]][0])\n",
    "common_vocab_df_original['period_end'] = common_vocab_df_original['pair'].map(lambda x: periods[x[1]][1])\n",
    "common_vocab_df_original['period_middle'] = ((common_vocab_df_original['period_start'] \n",
    "                                        + common_vocab_df_original['period_end']) / 2)\n",
    "\n",
    "common_vocab_df_cleaned = pd.read_csv('../out_files/common_vocab_df_cleaned.csv', converters={\"pair\": ast.literal_eval})\n",
    "common_vocab_df_cleaned['version'] = 'with preprocessing'\n",
    "common_vocab_df_cleaned['period_start'] = common_vocab_df_cleaned['pair'].map(lambda x: periods[x[0]][0])\n",
    "common_vocab_df_cleaned['period_end'] = common_vocab_df_cleaned['pair'].map(lambda x: periods[x[1]][1])\n",
    "common_vocab_df_cleaned['period_middle'] = ((common_vocab_df_cleaned['period_start'] \n",
    "                                        + common_vocab_df_cleaned['period_end']) / 2)\n",
    "\n",
    "\n",
    "common_vocab_df_merged_cleaned = pd.read_csv('../out_files/common_vocab_df_merged_cleaned.csv', converters={\"pair\": ast.literal_eval})\n",
    "common_vocab_df_merged_cleaned['version'] = 'with preprocessing and merging'\n",
    "\n",
    "common_vocab_df_merged_cleaned['period_start'] = common_vocab_df_merged_cleaned['pair'].map(lambda x: merged_periods[x[0]][0])\n",
    "common_vocab_df_merged_cleaned['period_end'] = common_vocab_df_merged_cleaned['pair'].map(lambda x: merged_periods[x[1]][1])\n",
    "common_vocab_df_merged_cleaned['period_middle'] = ((common_vocab_df_merged_cleaned['period_start'] \n",
    "                                        + common_vocab_df_merged_cleaned['period_end']) / 2)"
   ]
  },
  {
   "cell_type": "code",
   "execution_count": 5,
   "metadata": {},
   "outputs": [],
   "source": [
    "all_versions_df = common_vocab_df_original.append(common_vocab_df_cleaned).append(common_vocab_df_merged_cleaned)"
   ]
  },
  {
   "cell_type": "code",
   "execution_count": 6,
   "metadata": {},
   "outputs": [],
   "source": [
    "# all_versions_df.to_csv('../out_files/all_versions_common_vocab.csv', index=False)"
   ]
  },
  {
   "cell_type": "code",
   "execution_count": 7,
   "metadata": {},
   "outputs": [
    {
     "data": {
      "text/html": [
       "<div>\n",
       "<style scoped>\n",
       "    .dataframe tbody tr th:only-of-type {\n",
       "        vertical-align: middle;\n",
       "    }\n",
       "\n",
       "    .dataframe tbody tr th {\n",
       "        vertical-align: top;\n",
       "    }\n",
       "\n",
       "    .dataframe thead th {\n",
       "        text-align: right;\n",
       "    }\n",
       "</style>\n",
       "<table border=\"1\" class=\"dataframe\">\n",
       "  <thead>\n",
       "    <tr style=\"text-align: right;\">\n",
       "      <th></th>\n",
       "      <th>pair</th>\n",
       "      <th>common_vocab</th>\n",
       "      <th>version</th>\n",
       "      <th>period_start</th>\n",
       "      <th>period_end</th>\n",
       "      <th>period_middle</th>\n",
       "    </tr>\n",
       "  </thead>\n",
       "  <tbody>\n",
       "    <tr>\n",
       "      <th>0</th>\n",
       "      <td>(5, 6)</td>\n",
       "      <td>30043</td>\n",
       "      <td>without preprocessing</td>\n",
       "      <td>1989</td>\n",
       "      <td>1990</td>\n",
       "      <td>1989.5</td>\n",
       "    </tr>\n",
       "    <tr>\n",
       "      <th>1</th>\n",
       "      <td>(6, 7)</td>\n",
       "      <td>46959</td>\n",
       "      <td>without preprocessing</td>\n",
       "      <td>1989</td>\n",
       "      <td>1993</td>\n",
       "      <td>1991.0</td>\n",
       "    </tr>\n",
       "    <tr>\n",
       "      <th>2</th>\n",
       "      <td>(7, 8)</td>\n",
       "      <td>95910</td>\n",
       "      <td>without preprocessing</td>\n",
       "      <td>1990</td>\n",
       "      <td>1996</td>\n",
       "      <td>1993.0</td>\n",
       "    </tr>\n",
       "    <tr>\n",
       "      <th>3</th>\n",
       "      <td>(8, 9)</td>\n",
       "      <td>91904</td>\n",
       "      <td>without preprocessing</td>\n",
       "      <td>1993</td>\n",
       "      <td>2000</td>\n",
       "      <td>1996.5</td>\n",
       "    </tr>\n",
       "    <tr>\n",
       "      <th>4</th>\n",
       "      <td>(9, 10)</td>\n",
       "      <td>146489</td>\n",
       "      <td>without preprocessing</td>\n",
       "      <td>1996</td>\n",
       "      <td>2004</td>\n",
       "      <td>2000.0</td>\n",
       "    </tr>\n",
       "    <tr>\n",
       "      <th>5</th>\n",
       "      <td>(10, 11)</td>\n",
       "      <td>131007</td>\n",
       "      <td>without preprocessing</td>\n",
       "      <td>2000</td>\n",
       "      <td>2007</td>\n",
       "      <td>2003.5</td>\n",
       "    </tr>\n",
       "    <tr>\n",
       "      <th>6</th>\n",
       "      <td>(11, 12)</td>\n",
       "      <td>122770</td>\n",
       "      <td>without preprocessing</td>\n",
       "      <td>2004</td>\n",
       "      <td>2009</td>\n",
       "      <td>2006.5</td>\n",
       "    </tr>\n",
       "    <tr>\n",
       "      <th>7</th>\n",
       "      <td>(12, 13)</td>\n",
       "      <td>123471</td>\n",
       "      <td>without preprocessing</td>\n",
       "      <td>2007</td>\n",
       "      <td>2012</td>\n",
       "      <td>2009.5</td>\n",
       "    </tr>\n",
       "    <tr>\n",
       "      <th>8</th>\n",
       "      <td>(13, 14)</td>\n",
       "      <td>1063</td>\n",
       "      <td>without preprocessing</td>\n",
       "      <td>2009</td>\n",
       "      <td>2012</td>\n",
       "      <td>2010.5</td>\n",
       "    </tr>\n",
       "    <tr>\n",
       "      <th>9</th>\n",
       "      <td>(14, 15)</td>\n",
       "      <td>1089</td>\n",
       "      <td>without preprocessing</td>\n",
       "      <td>2012</td>\n",
       "      <td>2014</td>\n",
       "      <td>2013.0</td>\n",
       "    </tr>\n",
       "    <tr>\n",
       "      <th>10</th>\n",
       "      <td>(15, 16)</td>\n",
       "      <td>76861</td>\n",
       "      <td>without preprocessing</td>\n",
       "      <td>2012</td>\n",
       "      <td>2015</td>\n",
       "      <td>2013.5</td>\n",
       "    </tr>\n",
       "    <tr>\n",
       "      <th>11</th>\n",
       "      <td>(16, 17)</td>\n",
       "      <td>80580</td>\n",
       "      <td>without preprocessing</td>\n",
       "      <td>2015</td>\n",
       "      <td>2019</td>\n",
       "      <td>2017.0</td>\n",
       "    </tr>\n",
       "    <tr>\n",
       "      <th>12</th>\n",
       "      <td>(17, 18)</td>\n",
       "      <td>116456</td>\n",
       "      <td>without preprocessing</td>\n",
       "      <td>2015</td>\n",
       "      <td>2020</td>\n",
       "      <td>2017.5</td>\n",
       "    </tr>\n",
       "    <tr>\n",
       "      <th>0</th>\n",
       "      <td>(5, 6)</td>\n",
       "      <td>27439</td>\n",
       "      <td>with preprocessing</td>\n",
       "      <td>1989</td>\n",
       "      <td>1990</td>\n",
       "      <td>1989.5</td>\n",
       "    </tr>\n",
       "    <tr>\n",
       "      <th>1</th>\n",
       "      <td>(6, 7)</td>\n",
       "      <td>43915</td>\n",
       "      <td>with preprocessing</td>\n",
       "      <td>1989</td>\n",
       "      <td>1993</td>\n",
       "      <td>1991.0</td>\n",
       "    </tr>\n",
       "    <tr>\n",
       "      <th>2</th>\n",
       "      <td>(7, 8)</td>\n",
       "      <td>91614</td>\n",
       "      <td>with preprocessing</td>\n",
       "      <td>1990</td>\n",
       "      <td>1996</td>\n",
       "      <td>1993.0</td>\n",
       "    </tr>\n",
       "    <tr>\n",
       "      <th>3</th>\n",
       "      <td>(8, 9)</td>\n",
       "      <td>86361</td>\n",
       "      <td>with preprocessing</td>\n",
       "      <td>1993</td>\n",
       "      <td>2000</td>\n",
       "      <td>1996.5</td>\n",
       "    </tr>\n",
       "    <tr>\n",
       "      <th>4</th>\n",
       "      <td>(9, 10)</td>\n",
       "      <td>126131</td>\n",
       "      <td>with preprocessing</td>\n",
       "      <td>1996</td>\n",
       "      <td>2004</td>\n",
       "      <td>2000.0</td>\n",
       "    </tr>\n",
       "    <tr>\n",
       "      <th>5</th>\n",
       "      <td>(10, 11)</td>\n",
       "      <td>129103</td>\n",
       "      <td>with preprocessing</td>\n",
       "      <td>2000</td>\n",
       "      <td>2007</td>\n",
       "      <td>2003.5</td>\n",
       "    </tr>\n",
       "    <tr>\n",
       "      <th>6</th>\n",
       "      <td>(11, 12)</td>\n",
       "      <td>121537</td>\n",
       "      <td>with preprocessing</td>\n",
       "      <td>2004</td>\n",
       "      <td>2009</td>\n",
       "      <td>2006.5</td>\n",
       "    </tr>\n",
       "    <tr>\n",
       "      <th>7</th>\n",
       "      <td>(12, 13)</td>\n",
       "      <td>117287</td>\n",
       "      <td>with preprocessing</td>\n",
       "      <td>2007</td>\n",
       "      <td>2012</td>\n",
       "      <td>2009.5</td>\n",
       "    </tr>\n",
       "    <tr>\n",
       "      <th>8</th>\n",
       "      <td>(13, 14)</td>\n",
       "      <td>845</td>\n",
       "      <td>with preprocessing</td>\n",
       "      <td>2009</td>\n",
       "      <td>2012</td>\n",
       "      <td>2010.5</td>\n",
       "    </tr>\n",
       "    <tr>\n",
       "      <th>9</th>\n",
       "      <td>(14, 15)</td>\n",
       "      <td>869</td>\n",
       "      <td>with preprocessing</td>\n",
       "      <td>2012</td>\n",
       "      <td>2014</td>\n",
       "      <td>2013.0</td>\n",
       "    </tr>\n",
       "    <tr>\n",
       "      <th>10</th>\n",
       "      <td>(15, 16)</td>\n",
       "      <td>67557</td>\n",
       "      <td>with preprocessing</td>\n",
       "      <td>2012</td>\n",
       "      <td>2015</td>\n",
       "      <td>2013.5</td>\n",
       "    </tr>\n",
       "    <tr>\n",
       "      <th>11</th>\n",
       "      <td>(16, 17)</td>\n",
       "      <td>70461</td>\n",
       "      <td>with preprocessing</td>\n",
       "      <td>2015</td>\n",
       "      <td>2019</td>\n",
       "      <td>2017.0</td>\n",
       "    </tr>\n",
       "    <tr>\n",
       "      <th>12</th>\n",
       "      <td>(17, 18)</td>\n",
       "      <td>98886</td>\n",
       "      <td>with preprocessing</td>\n",
       "      <td>2015</td>\n",
       "      <td>2020</td>\n",
       "      <td>2017.5</td>\n",
       "    </tr>\n",
       "    <tr>\n",
       "      <th>0</th>\n",
       "      <td>(7, 8)</td>\n",
       "      <td>93171</td>\n",
       "      <td>with preprocessing and merging</td>\n",
       "      <td>1989</td>\n",
       "      <td>1996</td>\n",
       "      <td>1992.5</td>\n",
       "    </tr>\n",
       "    <tr>\n",
       "      <th>1</th>\n",
       "      <td>(8, 9)</td>\n",
       "      <td>86361</td>\n",
       "      <td>with preprocessing and merging</td>\n",
       "      <td>1993</td>\n",
       "      <td>2000</td>\n",
       "      <td>1996.5</td>\n",
       "    </tr>\n",
       "    <tr>\n",
       "      <th>2</th>\n",
       "      <td>(9, 10)</td>\n",
       "      <td>126131</td>\n",
       "      <td>with preprocessing and merging</td>\n",
       "      <td>1996</td>\n",
       "      <td>2004</td>\n",
       "      <td>2000.0</td>\n",
       "    </tr>\n",
       "    <tr>\n",
       "      <th>3</th>\n",
       "      <td>(10, 11)</td>\n",
       "      <td>129103</td>\n",
       "      <td>with preprocessing and merging</td>\n",
       "      <td>2000</td>\n",
       "      <td>2007</td>\n",
       "      <td>2003.5</td>\n",
       "    </tr>\n",
       "    <tr>\n",
       "      <th>4</th>\n",
       "      <td>(11, 12)</td>\n",
       "      <td>121537</td>\n",
       "      <td>with preprocessing and merging</td>\n",
       "      <td>2004</td>\n",
       "      <td>2009</td>\n",
       "      <td>2006.5</td>\n",
       "    </tr>\n",
       "    <tr>\n",
       "      <th>5</th>\n",
       "      <td>(12, 13)</td>\n",
       "      <td>117287</td>\n",
       "      <td>with preprocessing and merging</td>\n",
       "      <td>2007</td>\n",
       "      <td>2012</td>\n",
       "      <td>2009.5</td>\n",
       "    </tr>\n",
       "    <tr>\n",
       "      <th>6</th>\n",
       "      <td>(13, 15)</td>\n",
       "      <td>120224</td>\n",
       "      <td>with preprocessing and merging</td>\n",
       "      <td>2009</td>\n",
       "      <td>2014</td>\n",
       "      <td>2011.5</td>\n",
       "    </tr>\n",
       "    <tr>\n",
       "      <th>7</th>\n",
       "      <td>(15, 17)</td>\n",
       "      <td>127269</td>\n",
       "      <td>with preprocessing and merging</td>\n",
       "      <td>2012</td>\n",
       "      <td>2019</td>\n",
       "      <td>2015.5</td>\n",
       "    </tr>\n",
       "    <tr>\n",
       "      <th>8</th>\n",
       "      <td>(17, 18)</td>\n",
       "      <td>100949</td>\n",
       "      <td>with preprocessing and merging</td>\n",
       "      <td>2015</td>\n",
       "      <td>2020</td>\n",
       "      <td>2017.5</td>\n",
       "    </tr>\n",
       "  </tbody>\n",
       "</table>\n",
       "</div>"
      ],
      "text/plain": [
       "        pair  common_vocab                         version  period_start  \\\n",
       "0     (5, 6)         30043           without preprocessing          1989   \n",
       "1     (6, 7)         46959           without preprocessing          1989   \n",
       "2     (7, 8)         95910           without preprocessing          1990   \n",
       "3     (8, 9)         91904           without preprocessing          1993   \n",
       "4    (9, 10)        146489           without preprocessing          1996   \n",
       "5   (10, 11)        131007           without preprocessing          2000   \n",
       "6   (11, 12)        122770           without preprocessing          2004   \n",
       "7   (12, 13)        123471           without preprocessing          2007   \n",
       "8   (13, 14)          1063           without preprocessing          2009   \n",
       "9   (14, 15)          1089           without preprocessing          2012   \n",
       "10  (15, 16)         76861           without preprocessing          2012   \n",
       "11  (16, 17)         80580           without preprocessing          2015   \n",
       "12  (17, 18)        116456           without preprocessing          2015   \n",
       "0     (5, 6)         27439              with preprocessing          1989   \n",
       "1     (6, 7)         43915              with preprocessing          1989   \n",
       "2     (7, 8)         91614              with preprocessing          1990   \n",
       "3     (8, 9)         86361              with preprocessing          1993   \n",
       "4    (9, 10)        126131              with preprocessing          1996   \n",
       "5   (10, 11)        129103              with preprocessing          2000   \n",
       "6   (11, 12)        121537              with preprocessing          2004   \n",
       "7   (12, 13)        117287              with preprocessing          2007   \n",
       "8   (13, 14)           845              with preprocessing          2009   \n",
       "9   (14, 15)           869              with preprocessing          2012   \n",
       "10  (15, 16)         67557              with preprocessing          2012   \n",
       "11  (16, 17)         70461              with preprocessing          2015   \n",
       "12  (17, 18)         98886              with preprocessing          2015   \n",
       "0     (7, 8)         93171  with preprocessing and merging          1989   \n",
       "1     (8, 9)         86361  with preprocessing and merging          1993   \n",
       "2    (9, 10)        126131  with preprocessing and merging          1996   \n",
       "3   (10, 11)        129103  with preprocessing and merging          2000   \n",
       "4   (11, 12)        121537  with preprocessing and merging          2004   \n",
       "5   (12, 13)        117287  with preprocessing and merging          2007   \n",
       "6   (13, 15)        120224  with preprocessing and merging          2009   \n",
       "7   (15, 17)        127269  with preprocessing and merging          2012   \n",
       "8   (17, 18)        100949  with preprocessing and merging          2015   \n",
       "\n",
       "    period_end  period_middle  \n",
       "0         1990         1989.5  \n",
       "1         1993         1991.0  \n",
       "2         1996         1993.0  \n",
       "3         2000         1996.5  \n",
       "4         2004         2000.0  \n",
       "5         2007         2003.5  \n",
       "6         2009         2006.5  \n",
       "7         2012         2009.5  \n",
       "8         2012         2010.5  \n",
       "9         2014         2013.0  \n",
       "10        2015         2013.5  \n",
       "11        2019         2017.0  \n",
       "12        2020         2017.5  \n",
       "0         1990         1989.5  \n",
       "1         1993         1991.0  \n",
       "2         1996         1993.0  \n",
       "3         2000         1996.5  \n",
       "4         2004         2000.0  \n",
       "5         2007         2003.5  \n",
       "6         2009         2006.5  \n",
       "7         2012         2009.5  \n",
       "8         2012         2010.5  \n",
       "9         2014         2013.0  \n",
       "10        2015         2013.5  \n",
       "11        2019         2017.0  \n",
       "12        2020         2017.5  \n",
       "0         1996         1992.5  \n",
       "1         2000         1996.5  \n",
       "2         2004         2000.0  \n",
       "3         2007         2003.5  \n",
       "4         2009         2006.5  \n",
       "5         2012         2009.5  \n",
       "6         2014         2011.5  \n",
       "7         2019         2015.5  \n",
       "8         2020         2017.5  "
      ]
     },
     "execution_count": 7,
     "metadata": {},
     "output_type": "execute_result"
    }
   ],
   "source": [
    "all_versions_df"
   ]
  },
  {
   "cell_type": "code",
   "execution_count": 8,
   "metadata": {},
   "outputs": [],
   "source": [
    "def periods_to_dates(periods):\n",
    "\n",
    "    period_dict = {5:'7/1989-10/1989',\n",
    "                  6:'11/1989-3/1990',\n",
    "                  7:'4/1990-9/1993',\n",
    "                  8:'10/1993-8/1996',\n",
    "                  9:'10/1996-3/2000',\n",
    "                  10:'4/2000-2/2004',\n",
    "                  11:'3/2004-8/2007',\n",
    "                  12:'9/2007-9/2009',\n",
    "                  13:'10/2009-4/2012',\n",
    "                  14:'5/2012-5/2012', \n",
    "                  15:'6/2012-12/2014', \n",
    "                  16:'2/2015-8/2015',\n",
    "                  17:'10/2015-6/2019', \n",
    "                  18:'7/2019-7/2020'}\n",
    "    \n",
    "    if isinstance(periods, tuple):\n",
    "        return r\"$\\bf{\" + str(periods[0]) + \"\\ &\\ \" +str(periods[1]) + \"}$\" + \"\\n\" +period_dict[periods[0]]+' &\\n '+period_dict[periods[1]]\n",
    "    else:\n",
    "        return r\"$\\bf{\" + 'Period\\ '+ str(periods)+ \"}$\"+'\\n'+period_dict[periods]        \n"
   ]
  },
  {
   "cell_type": "code",
   "execution_count": 9,
   "metadata": {},
   "outputs": [
    {
     "data": {
      "image/png": "[encoded data removed]",
      "text/plain": [
       "<Figure size 1080x432 with 1 Axes>"
      ]
     },
     "metadata": {
      "needs_background": "light"
     },
     "output_type": "display_data"
    },
    {
     "data": {
      "text/plain": [
       "<Figure size 432x288 with 0 Axes>"
      ]
     },
     "metadata": {},
     "output_type": "display_data"
    }
   ],
   "source": [
    "fig = plt.figure(figsize=(15, 6))\n",
    "colors = sns.color_palette(\"hls\", 90) #90 is available pairs\n",
    "\n",
    "plt.rcParams.update({'font.size': 12})\n",
    "\n",
    "versions = list(set(all_versions_df.version.to_list()))\n",
    "                \n",
    "for version in versions:\n",
    "    \n",
    "    Y = all_versions_df.loc[(all_versions_df['version']==version)].common_vocab.to_list()\n",
    "    X = all_versions_df.loc[(all_versions_df['version']==version)]['period_middle'].to_list()\n",
    "\n",
    "    plt.scatter(X,Y)\n",
    "\n",
    "    plt.plot(X,Y)\n",
    "\n",
    "\n",
    "xticks = common_vocab_df_original['period_middle'].unique()\n",
    "xtick_labels = [ periods_to_dates(x) for x in sorted(common_vocab_df_original['pair'].unique()) ]\n",
    "\n",
    "plt.xlabel('Pairs of Parliamentary Periods', fontsize=18, labelpad=150)\n",
    "plt.ylabel('Number of Common Tokens', fontsize=16)\n",
    "\n",
    "ax = plt.gca()\n",
    "ax.set_ylim([0,172000])\n",
    "handles, labels = ax.get_legend_handles_labels()\n",
    "formatter = FuncFormatter(numerize.numerize)\n",
    "ax.yaxis.set_major_formatter(formatter)\n",
    "plt.title('Common Vocabulary Between Period Pairs', fontsize=20)\n",
    "plt.legend(versions, loc='upper right',prop={'size': 14})\n",
    "\n",
    "\n",
    "for i, xtick in enumerate(xticks):\n",
    "    if i in [0,7,9,11]:\n",
    "        plt.annotate(xtick_labels[i], fontsize=11, annotation_clip=False,  rotation=70,\n",
    "                     bbox=dict(pad=0, facecolor=\"none\", edgecolor=\"none\"),\n",
    "                     xy=(xtick, -0.5), ma='center', xytext=(xtick-1.5, -65000), arrowprops=dict(arrowstyle=\"->\"))\n",
    "    elif i in [3,4,5,6]:\n",
    "        plt.annotate(xtick_labels[i], fontsize=11, annotation_clip=False,  rotation=70,\n",
    "                     bbox=dict(pad=0, facecolor=\"none\", edgecolor=\"none\"),\n",
    "                     xy=(xtick, -0.5), ma='center', xytext=(xtick-1.2, -65000), arrowprops=dict(arrowstyle=\"->\"))\n",
    "    elif i in [10,12]:\n",
    "        plt.annotate(xtick_labels[i], fontsize=11, annotation_clip=False,  rotation=70,\n",
    "                     bbox=dict(pad=0, facecolor=\"none\", edgecolor=\"none\"),\n",
    "                     xy=(xtick, -0.5), ma='center', xytext=(xtick+0.2, -65000), arrowprops=dict(arrowstyle=\"->\"))\n",
    "    elif i in [1,2,8]:\n",
    "        plt.annotate(xtick_labels[i], fontsize=11, annotation_clip=False, rotation=70, ma='center',\n",
    "                     bbox=dict(pad=0, facecolor=\"none\", edgecolor=\"none\"),\n",
    "                     xy=(xtick, -0.5), xytext=(xtick-0.7, -65000), arrowprops=dict(arrowstyle=\"->\"))\n",
    "\n",
    "#hide major xticks\n",
    "plt.tick_params(axis='x', which='major', bottom=False, top=False, labelbottom=False)\n",
    "\n",
    "plt.savefig('../out_files/common_vocab.png', dpi=200,  bbox_inches='tight')\n",
    "\n",
    "plt.show()\n",
    "plt.cla()\n",
    "plt.clf()\n",
    "fig.clear()\n",
    "plt.close(fig)\n"
   ]
  },
  {
   "cell_type": "code",
   "execution_count": null,
   "metadata": {},
   "outputs": [],
   "source": []
  }
 ],
 "metadata": {
  "kernelspec": {
   "display_name": ".parl_env",
   "language": "python",
   "name": ".parl_env"
  },
  "language_info": {
   "codemirror_mode": {
    "name": "ipython",
    "version": 3
   },
   "file_extension": ".py",
   "mimetype": "text/x-python",
   "name": "python",
   "nbconvert_exporter": "python",
   "pygments_lexer": "ipython3",
   "version": "3.7.3"
  }
 },
 "nbformat": 4,
 "nbformat_minor": 4
}
