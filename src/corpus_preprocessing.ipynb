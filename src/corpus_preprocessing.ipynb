{
 "cells": [
  {
   "cell_type": "code",
   "execution_count": 1,
   "metadata": {},
   "outputs": [
    {
     "name": "stderr",
     "output_type": "stream",
     "text": [
      "[nltk_data] Downloading package punkt to /Users/furiosa/nltk_data...\n",
      "[nltk_data]   Package punkt is already up-to-date!\n"
     ]
    },
    {
     "data": {
      "text/plain": [
       "True"
      ]
     },
     "execution_count": 1,
     "metadata": {},
     "output_type": "execute_result"
    }
   ],
   "source": [
    "import pandas as pd\n",
    "from tqdm import tqdm\n",
    "from gensim.models import Word2Vec\n",
    "import nltk\n",
    "import numpy as np\n",
    "import gensim\n",
    "import re\n",
    "nltk.download('punkt')"
   ]
  },
  {
   "cell_type": "markdown",
   "metadata": {},
   "source": [
    "Replace political party references with political party ids."
   ]
  },
  {
   "cell_type": "code",
   "execution_count": 7,
   "metadata": {},
   "outputs": [
    {
     "data": {
      "text/plain": [
       "'Της @δηανα; Του @συνασπισμος και του @πασοκ.'"
      ]
     },
     "execution_count": 7,
     "metadata": {},
     "output_type": "execute_result"
    }
   ],
   "source": [
    "party_alts = {\n",
    "'@μερα25':['Μ(έ|ε)ΡΑ25', \n",
    "           '((Μ(έ|ε)τωπο)|(Μετ(ώ|ω)που)) Ευρωπα(ϊ|ι)κ(ή|η)ς Ρεαλιστικ(ή|η)ς Ανυπακο(ή|η)ς', \n",
    "           'ΜΕΡΑ25'],\n",
    "    \n",
    "'@νδ':['Ν(έ|ε)α(ς*) Δημοκρατ(ί|ι)α(ς*)'], #' Ν.Δ.(?!\\w)',\n",
    "       #' ΝΔ(?!\\w)'],  #look-ahead assertion: not followed by a word character: letter, number, underscore\n",
    "    # ν.δ. νομοθετικό διάταγμα το γράφουν και με κεφαλαία\n",
    "'η @νδ':['(Η|η) ΝΔ(?!\\w)', '(Η|η) Ν.Δ.(?!\\w)'], \n",
    "'της @νδ':['(Τ|τ)ης ΝΔ(?!\\w)', '(Τ|τ)ης Ν.Δ.(?!\\w)'],\n",
    "'τη @νδ':['(Τ|τ)η ΝΔ(?!\\w)', '(Τ|τ)η Ν.Δ.(?!\\w)'],\n",
    "    \n",
    "#add space in front of small ids that could be wrongly identified in the middle of other words in caps lock\n",
    "# space is not added also at the end of the string but look-ahead assertion that no word character follows.\n",
    "    \n",
    "' @δησυ':['Δημοκρατικ(ή|η)(ς*) Συμπαρ(ά|α)ταξη(ς*)', \n",
    "         ' ΔΗ\\.ΣΥ\\.(?!\\w)', \n",
    "         ' ΔΗΣΥ(?!\\w)'],\n",
    "    \n",
    "' @συριζα':['((Συνασπισμ(ό|ο)ς)|(Συνασπισμο(ύ|υ))) Ριζοσπαστικ(ή|η)ς Αριστερ(ά|α)ς', ' ΣΥΡΙΖΑ(?!\\w)',' ΣΥ\\.ΡΙΖ\\.Α(?!\\w)'],\n",
    "# 'ανεξαρτητοι ελληνες εθνικη πατριωτικη δημοκρατικη συμμαχια':[],\n",
    "    \n",
    "'@ελληνικη_λυση':['Ελληνικ(ή|η)(ς*) Λ(ύ|υ)ση(ς*)((\\s*)(\\-*)(\\s*)Κυρι(ά|α)κος Βελ(ό|ο)πουλος)?'],\n",
    "                  #'Ελληνικ(ή|η)(ς*) Λ(ύ|υ)ση(ς*)'],\n",
    "    # maybe just make \n",
    "' @πολαν':['Πολιτικ(ή|η)(ς*) (Ά|Α)νοιξη(ς*)', ' ΠΟΛ\\.ΑΝ\\.(?!\\w)', ' ΠΟΛΑΝ(?!\\w)'],\n",
    "    \n",
    "'@ανεξαρτητοι_δημοκρατικοι_βουλευτες':['Ανεξ(ά|α)ρτητοι Δημοκρατικο(ί|ι) Βουλευτ(έ|ε)ς', \n",
    "                                       'Ανεξ(ά|α)ρτητων Δημοκρατικ(ώ|ω)ν Βουλευτ(ώ|ω)ν', \n",
    "                                       'Ανεξ(ά|α)ρτητους Δημοκρατικο(ύ|υ)ς Βουλευτ(έ|ε)ς'],\n",
    "    \n",
    "' @ανελ':['Ανεξ(ά|α)ρτητοι (Έ|Ε)λληνες((\\s*)(\\-*)(\\s*)Π(ά|α)νος Καμμ(έ|ε)νος)?', \n",
    "         'Ανεξ(ά|α)ρτητων Ελλ(ή|η)νων((\\s*)(\\-*)(\\s*)Π(ά|α)νος Καμμ(έ|ε)νος)?', \n",
    "         'Ανεξ(ά|α)ρτητους (Έ|Ε)λληνες((\\s*)(\\-*)(\\s*)Π(ά|α)νος Καμμ(έ|ε)νος)?', \n",
    "         ' ΑΝ.ΕΛ.(?!\\w)', ' ΑΝΕΛ(?!\\w)', \n",
    "         'Ανεξ(ά|α)ρτητοι (Έ|Ε)λληνες(\\s*)(\\-*)(\\s*)Εθνικ(ή|η) Πατριωτικ(ή|η) Δημοκρατικ(ή|η) Συμμαχ(ί|ι)α'],\n",
    "    \n",
    "' @δηανα':['Δημοκρατικ(ή|η)(ς*) Αναν(έ|ε)ωση(ς*)', ' ΔΗΑΝΑ(?!\\w)', ' ΔΗ\\.ΑΝΑ\\.(?!\\w)'],\n",
    "    \n",
    "' @κιναλ':['Κ(ί|ι)νημα Αλλαγ(ή|η)ς', ' ΚΙΝΑΛ(?!\\w)', ' ΚΙΝ\\.ΑΛ\\.(?!\\w)', 'Κιν(ή|η)ματος Αλλαγ(ή|η)ς'],\n",
    "    \n",
    "' @δηκκι':['Δημοκρατικ(ό|ο) Κοινωνικ(ό|ο) Κ(ί|ι)νημα','Δημοκρατικο(ύ|υ) Κοινωνικο(ύ|υ) Κιν(ή|η)ματος', \n",
    "          ' ΔΗ\\.Κ\\.ΚΙ\\.(?!\\w)', ' ΔΗΚΚΙ(?!\\w)'],\n",
    "    \n",
    "'@συνασπισμος':['Συνασπισμ(ό|ο|ός|ος|ού|ου) (τ|Τ)ης Αριστερ(ά|α)ς (τ|Τ)ων Κινημ(ά|α)των (κ|Κ)αι (τ|Τ)ης Οικολογ(ί|ι)ας', \n",
    "                'Συνασπισμ(ού|ου)(?!\\s+Ριζοσπαστικ)',\n",
    "                'Συνασπισμ(ός|ος|ό|ο)(?!\\s+Ριζοσπαστικ)', \n",
    "                ' ΣΥΝ(?!\\w)'], #with \\s+ γιατί το ΣΥΝ ειναι συνηθες συνθετικο λεξεων?\n",
    "    \n",
    "' @πασοκ':['Πανελλ(ή|η)νιο Σοσιαλιστικ(ό|ο) Κ(ί|ι)νημα', \n",
    "          'Πανελλ(ή|η)νιου Σοσιαλιστικο(ύ|υ) Κιν(ή|η)ματος',\n",
    "          ' ΠΑΣΟΚ(?!\\w)', ' ΠΑ\\.ΣΟ\\.Κ\\.(?!\\w)'],\n",
    "    \n",
    "' @κκε':['Κομμουνιστικ(ό|ο) Κ(ό|ο)μμα Ελλ(ά|α)δ(ο|α)ς', \n",
    "        'Κομμουνιστικο(ύ|υ) Κ(ό|ο)μματος Ελλ(ά|α)δ(ο|α)ς',\n",
    "        ' Κ\\.Κ\\.Ε\\.(?!\\w)', ' ΚΚΕ(?!\\w)'],\n",
    "    \n",
    "' @λαος':['Λα(ϊ|ι)κ(ό|ο)(ς*) Ορθ(ό|ο)δοξο(ς*) Συναγερμ(ό|ο)(ς*)', \n",
    "         'Λα(ϊ|ι)κο(ύ|υ) Ορθ(ό|ο)δοξου Συναγερμο(ύ|υ)', \n",
    "         ' ΛΑ\\.Ο\\.Σ\\.(?!\\w)',' ΛΑΟΣ(?!\\w)'], #not λαος because it is used for referring to people\n",
    "    \n",
    "' @χα':['Λα(ϊ|ι)κ(ό|ο)(ς*) Σ(ύ|υ)νδεσμο(ς*)(\\s*)(\\-*)(\\s*)Χρυσ(ή|η) Αυγ(ή|η)', \n",
    "       'Λα(ϊ|ι)κο(ύ|υ) Συνδ(έ|ε)σμου(ς*)(\\s*)(\\-*)(\\s*)Χρυσ(ή|η) Αυγ(ή|η)',\n",
    "       'Χρυσ(ή|η)(ς*) Αυγ(ή|η)(ς*)', \n",
    "       ' Χ\\.Α\\.(?!\\w)',],\n",
    "    \n",
    "' @οε':['Οικολ(ό|ο)γοι(\\s*)(\\-*)(\\s*)Εναλλακτικο(ί|ι)', \n",
    "       'Οικολ(ό|ο)γων(\\s*)(\\-*)(\\s*)Εναλλακτικ(ώ|ω)ν',\n",
    "#        ' Ο\\.Ε\\.(?!\\w)' ομορρυθμη εταιρεια συνηθως\n",
    "       ],\n",
    "    \n",
    "' @λαε':['Λα(ϊ|ι)κ(ή|η)(ς*) Εν(ό|ο)τητα(ς*)', ' ΛΑ\\.Ε\\.(?!\\w)', ' ΛΑΕ(?!\\w)'],\n",
    "    \n",
    "'@ποταμι':['Ποτ(ά|α)μι'],\n",
    "    \n",
    "' @εκ':['(Έ|Ε)νωση(ς*) Κεντρ(ώ|ω)ων', \n",
    "#         ' Ε\\.Κ\\.(?!\\w)' #αναφορα το 1989 σε κάτι άλλο με τα ίδια αρχικά\n",
    "       ],\n",
    "    \n",
    "'@δημαρ':['Δημοκρατικ(ή|η)(ς*) Αριστερ(ά|α)(ς*)', ' ΔΗΜΑΡ(?!\\w)', ' ΔΗΜ\\.ΑΡ\\.(?!\\w)'],\n",
    "\n",
    "}\n",
    "\n",
    "def replace_political_parties_with_ids(text):\n",
    "    \n",
    "    text = re.sub('\\s\\s+' , ' ', text)\n",
    "\n",
    "    for key_name, alt_names in party_alts.items():\n",
    "        text = re.sub('|'.join(alt_names), key_name, text)\n",
    "        \n",
    "    text = re.sub('\\s\\s+' , ' ', text)\n",
    "    \n",
    "    return(text)\n",
    "\n",
    "example = 'Της Δημοκρατικη Ανανέωση; Του Συνασπισμού και του ΠΑΣΟΚ.'\n",
    "replace_political_parties_with_ids(example)\n",
    "# df[df['speech'].str.contains(\"@\")].speech.to_list()[:100]"
   ]
  },
  {
   "cell_type": "code",
   "execution_count": null,
   "metadata": {},
   "outputs": [],
   "source": [
    "original_df = pd.read_csv('../out_files/tell_all_FILLED.csv')\n",
    "original_df['speech'] = original_df['speech'].apply(replace_political_parties_with_ids)"
   ]
  },
  {
   "cell_type": "code",
   "execution_count": 8,
   "metadata": {},
   "outputs": [],
   "source": [
    "df = original_df.copy()"
   ]
  },
  {
   "cell_type": "markdown",
   "metadata": {},
   "source": [
    "Remove accents"
   ]
  },
  {
   "cell_type": "code",
   "execution_count": 9,
   "metadata": {},
   "outputs": [
    {
     "name": "stderr",
     "output_type": "stream",
     "text": [
      "/Users/furiosa/Documents/repos/paper_greekparliament/.parl_env/lib/python3.7/site-packages/tqdm/std.py:670: FutureWarning: The Panel class is removed from pandas. Accessing it from the top-level namespace will also be removed in the next version\n",
      "  from pandas import Panel\n",
      "  0%|          | 83/1280918 [00:00<26:33, 803.75it/s]"
     ]
    },
    {
     "name": "stdout",
     "output_type": "stream",
     "text": [
      "2021-03-12 14:50:14.280466\n"
     ]
    },
    {
     "name": "stderr",
     "output_type": "stream",
     "text": [
      "100%|██████████| 1280918/1280918 [11:42<00:00, 1823.89it/s]\n"
     ]
    },
    {
     "name": "stdout",
     "output_type": "stream",
     "text": [
      " Παρακαλειται ο Γραμματεας κ. Βουλγαρακης να συνοδευσει το Μακαριοτατο Αρχιεπισκοπο Αθηνων και πασης Ελλαδος κ. ΣΕΡΑΦΕΙΜ και τα συνοδευοντα αυτον μελη της Ιερας Συνοδου κατα την εισοδο τους στην Αιθουσα της Βουλης, προκειμενου να τελεσθει αγιασμος. . Στη συνεχεια τελειται ο καθιερωμενος αγιασμος.\n",
      "2021-03-12 15:01:58.683032\n"
     ]
    }
   ],
   "source": [
    "import unicodedata\n",
    "from tqdm import tqdm\n",
    "import datetime\n",
    "\n",
    "print(datetime.datetime.now())\n",
    "\n",
    "tqdm.pandas()\n",
    "\n",
    "def strip_accents(text):\n",
    "    new_text =  ''.join(c for c in unicodedata.normalize('NFD', text)\n",
    "                  if unicodedata.category(c) != 'Mn')\n",
    "    if new_text=='':\n",
    "        print(text)\n",
    "    return(new_text)\n",
    "\n",
    "df['speech'] = df.speech.progress_apply(lambda x: strip_accents(x))\n",
    "print(df['speech'].iloc[0])\n",
    "\n",
    "print(datetime.datetime.now())\n"
   ]
  },
  {
   "cell_type": "markdown",
   "metadata": {},
   "source": [
    "Replace stopwords with @sw"
   ]
  },
  {
   "cell_type": "code",
   "execution_count": 10,
   "metadata": {},
   "outputs": [
    {
     "name": "stdout",
     "output_type": "stream",
     "text": [
      "2021-03-12 15:02:00.794531\n",
      " παρακαλειται ο γραμματεας κ. βουλγαρακης να συνοδευσει το μακαριοτατο αρχιεπισκοπο αθηνων και πασης\n",
      " παρακαλειται @sw γραμματεας κ. βουλγαρακης @sw συνοδευσει @sw μακαριοτατο αρχιεπισκοπο αθηνων @sw π\n",
      "2021-03-12 15:39:18.340743\n"
     ]
    }
   ],
   "source": [
    "from spacy.lang.el.stop_words import STOP_WORDS #with accents\n",
    "\n",
    "STOP_WORDS_no_accents = list(set([strip_accents(w.lower()) for w in STOP_WORDS]))\n",
    "\n",
    "cschwem2er_stopwords = open('../out_files/greek_stopwords_cschwem2er_with_accents.txt', 'r+').read().split(',')\n",
    "\n",
    "cschwem2er_stopwords_no_accents = list(set([strip_accents(w.lower()) for w in cschwem2er_stopwords]))\n",
    "stopwords = list(set(STOP_WORDS_no_accents+cschwem2er_stopwords_no_accents))\n",
    "\n",
    "# print(stopwords)\n",
    "print(datetime.datetime.now())\n",
    "\n",
    "remove = '|'.join(stopwords)\n",
    "\n",
    "df['speech'] = df['speech'].str.lower()\n",
    "print(df['speech'].iloc[0][:100])\n",
    "\n",
    "df['speech'] = df['speech'].replace('@', ' ')\n",
    "\n",
    "df['speech'] = df['speech'].replace(r'\\b('+remove+r')\\b', '@sw', regex=True) # (?i) for case insensitive search very slow\n",
    "print(df['speech'].iloc[0][:100])\n",
    "print(datetime.datetime.now())\n"
   ]
  },
  {
   "cell_type": "markdown",
   "metadata": {},
   "source": [
    "Remove punctuation: first tokenize text into sentences, then add space before and after punctuation to separate it from actual words, then tokenize sentences into lists of words, remove punctuation tokens and the empty strings and last remove empty sentences."
   ]
  },
  {
   "cell_type": "code",
   "execution_count": 11,
   "metadata": {},
   "outputs": [
    {
     "name": "stderr",
     "output_type": "stream",
     "text": [
      "\r",
      "  0%|          | 0/1280918 [00:00<?, ?it/s]"
     ]
    },
    {
     "name": "stdout",
     "output_type": "stream",
     "text": [
      "Tokenizing text into sentences...\n"
     ]
    },
    {
     "name": "stderr",
     "output_type": "stream",
     "text": [
      "100%|██████████| 1280918/1280918 [15:00<00:00, 1423.23it/s]\n",
      "  0%|          | 581/1280918 [00:00<03:40, 5809.02it/s]"
     ]
    },
    {
     "name": "stdout",
     "output_type": "stream",
     "text": [
      "Adding space between punctuation or other symbols...\n"
     ]
    },
    {
     "name": "stderr",
     "output_type": "stream",
     "text": [
      "100%|██████████| 1280918/1280918 [02:55<00:00, 7282.45it/s] \n",
      "  0%|          | 2467/1280918 [00:00<00:51, 24660.15it/s]"
     ]
    },
    {
     "name": "stdout",
     "output_type": "stream",
     "text": [
      "Tokenizing sentences into lists of words...\n"
     ]
    },
    {
     "name": "stderr",
     "output_type": "stream",
     "text": [
      "100%|██████████| 1280918/1280918 [05:26<00:00, 3922.35it/s] \n",
      "  0%|          | 402/1280918 [00:00<05:34, 3823.00it/s]"
     ]
    },
    {
     "name": "stdout",
     "output_type": "stream",
     "text": [
      "Removing punctuation...\n"
     ]
    },
    {
     "name": "stderr",
     "output_type": "stream",
     "text": [
      "100%|██████████| 1280918/1280918 [09:29<00:00, 2250.44it/s] \n",
      "  0%|          | 0/1280918 [00:00<?, ?it/s]"
     ]
    },
    {
     "name": "stdout",
     "output_type": "stream",
     "text": [
      "Removing tokens with <2 characters...\n"
     ]
    },
    {
     "name": "stderr",
     "output_type": "stream",
     "text": [
      "100%|██████████| 1280918/1280918 [12:14<00:00, 1743.40it/s] \n",
      "  0%|          | 0/1280918 [00:00<?, ?it/s]"
     ]
    },
    {
     "name": "stdout",
     "output_type": "stream",
     "text": [
      "Removing empty sentences...\n"
     ]
    },
    {
     "name": "stderr",
     "output_type": "stream",
     "text": [
      "100%|██████████| 1280918/1280918 [04:33<00:00, 4686.51it/s]  \n"
     ]
    },
    {
     "name": "stdout",
     "output_type": "stream",
     "text": [
      "...done!\n"
     ]
    }
   ],
   "source": [
    "# from string import punctuation\n",
    "import nltk\n",
    "import re\n",
    "import unicodedata\n",
    "\n",
    "# use this regex to add space between the following symbols and text\n",
    "punct_regex = re.compile(r'([±½°¶■≥§‰●$€!΄¨‘“\"#%&\\'()*+,-./:;<=>«»?[\\]^_`{|}~\\u00b7\\u0387…–])')\n",
    "\n",
    "#use this regex to remove the following characters from text\n",
    "punctuation = '!\"#%&\\'()*+,-./:;<=>«»?[\\]^_`{|}~\\u00b7\\u0387…–'\n",
    "# symbols = '±½°¶■≥§‰●$€'\n",
    "\n",
    "#ADD SPACE\n",
    "def add_space(text):\n",
    "    text = re.sub(punct_regex, r' \\1 ', text)\n",
    "    text = re.sub('\\s{2,}', ' ', text)\n",
    "    return text\n",
    "\n",
    "\n",
    "#TOKENIZE SENTENCES\n",
    "print('Tokenizing text into sentences...')\n",
    "df.speech = df.speech.progress_apply(\n",
    "    lambda x: nltk.sent_tokenize(x)) #list of lists\n",
    "\n",
    "# ADD SPACE\n",
    "print('Adding space between punctuation or other symbols...')\n",
    "df.speech = df.speech.progress_apply(lambda x: [add_space(sentence) for sentence in x])\n",
    "\n",
    "\n",
    "#TOKENIZE WORDS IN SENTENCES\n",
    "print('Tokenizing sentences into lists of words...')\n",
    "\n",
    "df.speech = df.speech.progress_apply(\n",
    "    lambda x: [sentence.split() for sentence in x]) #list of lists\n",
    "\n",
    "# remove punctuation and empty strings\n",
    "print('Removing punctuation...')\n",
    "df.speech = df.speech.progress_apply(lambda x: [[w for w in sent if (w not in punctuation and w!='')] for sent in x])\n",
    "\n",
    "# Remove tokens with 2 or less characters\n",
    "print('Removing tokens with <2 characters...')\n",
    "df.speech = df.speech.progress_apply(lambda x: [[w for w in sent if ((not len(w)<=2) or ('@' in w) or (w.isdigit()))] for sent in x])\n",
    "\n",
    "#Remove empty sentences\n",
    "print('Removing empty sentences...')\n",
    "df.speech = df.speech.progress_apply(lambda x: [sent for sent in x if len(sent)>0])\n",
    "\n",
    "print('...done!')"
   ]
  },
  {
   "cell_type": "code",
   "execution_count": 12,
   "metadata": {},
   "outputs": [
    {
     "data": {
      "text/html": [
       "<div>\n",
       "<style scoped>\n",
       "    .dataframe tbody tr th:only-of-type {\n",
       "        vertical-align: middle;\n",
       "    }\n",
       "\n",
       "    .dataframe tbody tr th {\n",
       "        vertical-align: top;\n",
       "    }\n",
       "\n",
       "    .dataframe thead th {\n",
       "        text-align: right;\n",
       "    }\n",
       "</style>\n",
       "<table border=\"1\" class=\"dataframe\">\n",
       "  <thead>\n",
       "    <tr style=\"text-align: right;\">\n",
       "      <th></th>\n",
       "      <th>member_name</th>\n",
       "      <th>sitting_date</th>\n",
       "      <th>parliamentary_period</th>\n",
       "      <th>parliamentary_session</th>\n",
       "      <th>parliamentary_sitting</th>\n",
       "      <th>political_party</th>\n",
       "      <th>government</th>\n",
       "      <th>member_region</th>\n",
       "      <th>roles</th>\n",
       "      <th>member_gender</th>\n",
       "      <th>speaker_info</th>\n",
       "      <th>speech</th>\n",
       "    </tr>\n",
       "  </thead>\n",
       "  <tbody>\n",
       "    <tr>\n",
       "      <th>0</th>\n",
       "      <td>κρητικος νικολαου παναγιωτης</td>\n",
       "      <td>03/07/1989</td>\n",
       "      <td>period 5</td>\n",
       "      <td>session 1</td>\n",
       "      <td>sitting 1</td>\n",
       "      <td>πανελληνιο σοσιαλιστικο κινημα</td>\n",
       "      <td>['τζαννετακη τζαννη(02/07/1989-12/10/1989)']</td>\n",
       "      <td>β' πειραιως</td>\n",
       "      <td>['δ αντιπροεδρος βουλης(07/03/1989-21/11/1989)']</td>\n",
       "      <td>male</td>\n",
       "      <td>προεδρευων</td>\n",
       "      <td>[[παρακαλειται, @sw, γραμματεας, βουλγαρακης, ...</td>\n",
       "    </tr>\n",
       "    <tr>\n",
       "      <th>1</th>\n",
       "      <td>κρητικος νικολαου παναγιωτης</td>\n",
       "      <td>03/07/1989</td>\n",
       "      <td>period 5</td>\n",
       "      <td>session 1</td>\n",
       "      <td>sitting 1</td>\n",
       "      <td>πανελληνιο σοσιαλιστικο κινημα</td>\n",
       "      <td>['τζαννετακη τζαννη(02/07/1989-12/10/1989)']</td>\n",
       "      <td>β' πειραιως</td>\n",
       "      <td>['δ αντιπροεδρος βουλης(07/03/1989-21/11/1989)']</td>\n",
       "      <td>male</td>\n",
       "      <td>προεδρευων</td>\n",
       "      <td>[[παρακαλειται, @sw, κυριος, γραμματεας, @sw, ...</td>\n",
       "    </tr>\n",
       "  </tbody>\n",
       "</table>\n",
       "</div>"
      ],
      "text/plain": [
       "                    member_name sitting_date parliamentary_period  \\\n",
       "0  κρητικος νικολαου παναγιωτης   03/07/1989             period 5   \n",
       "1  κρητικος νικολαου παναγιωτης   03/07/1989             period 5   \n",
       "\n",
       "  parliamentary_session parliamentary_sitting                 political_party  \\\n",
       "0             session 1             sitting 1  πανελληνιο σοσιαλιστικο κινημα   \n",
       "1             session 1             sitting 1  πανελληνιο σοσιαλιστικο κινημα   \n",
       "\n",
       "                                     government member_region  \\\n",
       "0  ['τζαννετακη τζαννη(02/07/1989-12/10/1989)']   β' πειραιως   \n",
       "1  ['τζαννετακη τζαννη(02/07/1989-12/10/1989)']   β' πειραιως   \n",
       "\n",
       "                                              roles member_gender  \\\n",
       "0  ['δ αντιπροεδρος βουλης(07/03/1989-21/11/1989)']          male   \n",
       "1  ['δ αντιπροεδρος βουλης(07/03/1989-21/11/1989)']          male   \n",
       "\n",
       "  speaker_info                                             speech  \n",
       "0   προεδρευων  [[παρακαλειται, @sw, γραμματεας, βουλγαρακης, ...  \n",
       "1   προεδρευων  [[παρακαλειται, @sw, κυριος, γραμματεας, @sw, ...  "
      ]
     },
     "execution_count": 12,
     "metadata": {},
     "output_type": "execute_result"
    }
   ],
   "source": [
    "df.head(2)"
   ]
  },
  {
   "cell_type": "code",
   "execution_count": 13,
   "metadata": {},
   "outputs": [],
   "source": [
    "df.speech = df.speech.apply(lambda x: [' '.join([token for token in sentence]) for sentence in x])\n",
    "df.speech = df.speech.apply(lambda x: '.'.join([sentence for sentence in x]))\n",
    "df.to_csv('../out_files/tell_all_cleaned.csv', encoding='utf-8', index=False, na_rep=np.nan) #, encoding='utf-8', index=False, na_rep=np.nan\n"
   ]
  }
 ],
 "metadata": {
  "kernelspec": {
   "display_name": ".parl_env",
   "language": "python",
   "name": ".parl_env"
  },
  "language_info": {
   "codemirror_mode": {
    "name": "ipython",
    "version": 3
   },
   "file_extension": ".py",
   "mimetype": "text/x-python",
   "name": "python",
   "nbconvert_exporter": "python",
   "pygments_lexer": "ipython3",
   "version": "3.7.3"
  }
 },
 "nbformat": 4,
 "nbformat_minor": 4
}
