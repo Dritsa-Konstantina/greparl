{
 "cells": [
  {
   "cell_type": "code",
   "execution_count": 1,
   "metadata": {},
   "outputs": [],
   "source": [
    "import pandas as pd\n",
    "import numpy as np\n",
    "import datetime\n",
    "import re\n",
    "import os\n",
    "from gensim.models.word2vec import Word2Vec\n",
    "import random as rn"
   ]
  },
  {
   "cell_type": "code",
   "execution_count": 2,
   "metadata": {},
   "outputs": [
    {
     "name": "stdout",
     "output_type": "stream",
     "text": [
      "(1280918, 12)\n",
      "(1274505, 12)\n"
     ]
    },
    {
     "data": {
      "text/plain": [
       "0    παρακαλειται @sw γραμματεας βουλγαρακης @sw συ...\n",
       "1    παρακαλειται @sw κυριος γραμματεας @sw συνοδευ...\n",
       "2    κυριοι συναδελφοι παρακαλω @sw βουλη @sw εξουσ...\n",
       "3                                              @sw @sw\n",
       "Name: speech, dtype: object"
      ]
     },
     "execution_count": 2,
     "metadata": {},
     "output_type": "execute_result"
    }
   ],
   "source": [
    "df = pd.read_csv('../out_files/tell_all_cleaned.csv')\n",
    "\n",
    "print(df.shape)\n",
    "df = df[df['speech'].notna()]\n",
    "print(df.shape)\n",
    "df.speech.iloc[0]\n",
    "df.sitting_date = pd.to_datetime(df.sitting_date, format=\"%d/%m/%Y\") \n",
    "df.speech.head(4)"
   ]
  },
  {
   "cell_type": "code",
   "execution_count": 3,
   "metadata": {},
   "outputs": [
    {
     "name": "stdout",
     "output_type": "stream",
     "text": [
      "Preparing data...\n",
      "Group by periods...\n"
     ]
    }
   ],
   "source": [
    "df.speech = df.speech.apply(lambda x: x.replace(\".\", \" . \")) #add space around dot\n",
    "df.speech = df.speech+' . '\n",
    "\n",
    "#concat sentences, each last sentence for each speech did not have dot so add one.\n",
    "print('Preparing data...')\n",
    "'''\n",
    "cade tool uses gensim.models.word2vec.LineSentence() to iterate over the training corpus\n",
    "gensim.models.word2vec.LineSentence() takes as input \n",
    "a file that contains sentences: one line = one sentence.\n",
    "Words must be already preprocessed and separated by whitespace'''\n",
    "df.speech = df.speech.apply(lambda x: x.replace('\\n', ' '))\n",
    "df.speech = df.speech.apply(lambda x: re.sub('\\s\\s+' , ' ', x)) \n",
    "df.speech = df.speech.apply(lambda x: x.replace('. ', '.\\n'))\n",
    "\n",
    "df = df.rename(columns={'parliamentary_period': 'period'})\n",
    "\n",
    "# Adjust period names, merge small periods with larger and remove words in order to easily sort later on\n",
    "df.period = df.period.apply(lambda x: x.replace(' review 9',''))\n",
    "df.period = df.period.apply(lambda x: x.replace('period ',''))\n",
    "df.period = df.period.astype(int)\n",
    "df.loc[(df.period==5), 'period'] = 7\n",
    "df.loc[(df.period==6), 'period'] = 7\n",
    "df.loc[(df.period==14), 'period'] = 15 #2012-2014\n",
    "df.loc[(df.period==16), 'period'] = 17 #2015-2019\n",
    "\n",
    "print('Group by periods...')\n",
    "PERperiod_df = df.groupby(df.period)['speech'].apply(''.join).reset_index() #concat sentences, each last sentence for each speech did not have dot so add one.\n"
   ]
  },
  {
   "cell_type": "code",
   "execution_count": 4,
   "metadata": {},
   "outputs": [],
   "source": [
    "PERperiod_df.to_csv('../out_files/PERperiod_df.csv', index=False)"
   ]
  },
  {
   "cell_type": "code",
   "execution_count": 5,
   "metadata": {
    "scrolled": true
   },
   "outputs": [
    {
     "name": "stdout",
     "output_type": "stream",
     "text": [
      "Creating training corpora for each period...\n",
      "Done!\n"
     ]
    }
   ],
   "source": [
    "print('Creating training corpora for each period...')\n",
    "\n",
    "training_texts_dir = 'training_texts/PERperiod/'\n",
    "if not os.path.exists(training_texts_dir):\n",
    "    os.makedirs(training_texts_dir)\n",
    "\n",
    "for period, speech in zip(PERperiod_df.period, PERperiod_df.speech):\n",
    "    with open(training_texts_dir+str(period)+'.txt', \"w\") as o:\n",
    "        o.write(speech)\n",
    "\n",
    "print('Done!')"
   ]
  }
 ],
 "metadata": {
  "kernelspec": {
   "display_name": ".parl_env",
   "language": "python",
   "name": ".parl_env"
  },
  "language_info": {
   "codemirror_mode": {
    "name": "ipython",
    "version": 3
   },
   "file_extension": ".py",
   "mimetype": "text/x-python",
   "name": "python",
   "nbconvert_exporter": "python",
   "pygments_lexer": "ipython3",
   "version": "3.7.3"
  }
 },
 "nbformat": 4,
 "nbformat_minor": 4
}
